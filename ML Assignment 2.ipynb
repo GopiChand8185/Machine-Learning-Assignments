{
  "nbformat": 4,
  "nbformat_minor": 0,
  "metadata": {
    "colab": {
      "provenance": [],
      "toc_visible": true
    },
    "kernelspec": {
      "name": "python3",
      "display_name": "Python 3"
    },
    "language_info": {
      "name": "python"
    }
  },
  "cells": [
    {
      "cell_type": "markdown",
      "source": [
        "Question 1"
      ],
      "metadata": {
        "id": "E0EVhT22DWBV"
      }
    },
    {
      "cell_type": "code",
      "source": [
        "for i in range(0,5):\n",
        "  for j in range(0,i+1):\n",
        "    print(\"*\",end=\" \")\n",
        "  print(\"\\r\")\n",
        "for i in range(5,0,-1):\n",
        "  for j in range(0,i-1):\n",
        "    print(\"*\",end=\" \")\n",
        "  print(\"\\r\")"
      ],
      "metadata": {
        "colab": {
          "base_uri": "https://localhost:8080/"
        },
        "id": "Ehwd1CWqDcx0",
        "outputId": "c0115348-480d-45dc-ee94-cc46e9334638"
      },
      "execution_count": 1,
      "outputs": [
        {
          "output_type": "stream",
          "name": "stdout",
          "text": [
            "* \r\n",
            "* * \r\n",
            "* * * \r\n",
            "* * * * \r\n",
            "* * * * * \r\n",
            "* * * * \r\n",
            "* * * \r\n",
            "* * \r\n",
            "* \r\n",
            "\r\n"
          ]
        }
      ]
    },
    {
      "cell_type": "markdown",
      "source": [
        "Question 2"
      ],
      "metadata": {
        "id": "HngVDtu-DqCu"
      }
    },
    {
      "cell_type": "code",
      "source": [
        "my_list = [10, 20, 30, 40, 50, 60, 70, 80, 90, 100]\n",
        "n=len(my_list)\n",
        "for i in range(0,n):\n",
        "  if(i%2!=0):\n",
        "    print(my_list[i])\n"
      ],
      "metadata": {
        "colab": {
          "base_uri": "https://localhost:8080/"
        },
        "id": "_daKcHSCDsE3",
        "outputId": "7c2766a6-116f-4140-e3bb-0fc5a0dc9723"
      },
      "execution_count": 2,
      "outputs": [
        {
          "output_type": "stream",
          "name": "stdout",
          "text": [
            "20\n",
            "40\n",
            "60\n",
            "80\n",
            "100\n"
          ]
        }
      ]
    },
    {
      "cell_type": "markdown",
      "source": [
        "Question 3"
      ],
      "metadata": {
        "id": "Z_GwFB43EEHy"
      }
    },
    {
      "cell_type": "code",
      "source": [
        "x=[23,'python',23.98]\n",
        "type_list=[]\n",
        "for i in x:\n",
        "  type_list.append(type(i))\n",
        "print(x)\n",
        "print(type_list)"
      ],
      "metadata": {
        "colab": {
          "base_uri": "https://localhost:8080/"
        },
        "id": "_BunpcDjEGij",
        "outputId": "6306b498-1078-4186-f5d8-b3ca29a19219"
      },
      "execution_count": 3,
      "outputs": [
        {
          "output_type": "stream",
          "name": "stdout",
          "text": [
            "[23, 'python', 23.98]\n",
            "[<class 'int'>, <class 'str'>, <class 'float'>]\n"
          ]
        }
      ]
    },
    {
      "cell_type": "markdown",
      "source": [
        "Question 4"
      ],
      "metadata": {
        "id": "bpZNboQUEjxI"
      }
    },
    {
      "cell_type": "code",
      "source": [
        "li=[1,2,3,3,3,3,4,5]\n",
        "#converting list into set to find unique values\n",
        "uniquelist=list(set(li))\n",
        "print(uniquelist)"
      ],
      "metadata": {
        "colab": {
          "base_uri": "https://localhost:8080/"
        },
        "id": "iAZocCkWEmpQ",
        "outputId": "55f2765f-f430-4306-b5af-22d34b05ffe6"
      },
      "execution_count": 4,
      "outputs": [
        {
          "output_type": "stream",
          "name": "stdout",
          "text": [
            "[1, 2, 3, 4, 5]\n"
          ]
        }
      ]
    },
    {
      "cell_type": "markdown",
      "source": [
        "Question 5"
      ],
      "metadata": {
        "id": "66kR25QbErP8"
      }
    },
    {
      "cell_type": "code",
      "source": [
        "st = 'The quick Brow Fox'\n",
        "uppercount=0\n",
        "lowercount=0\n",
        "for i in st:\n",
        "  if(i.isupper()):\n",
        "    uppercount=uppercount+1\n",
        "  else:\n",
        "    lowercount=lowercount+1\n",
        "print('total uppercase letters:',uppercount)\n",
        "print('total lowercase letters:',lowercount)"
      ],
      "metadata": {
        "colab": {
          "base_uri": "https://localhost:8080/"
        },
        "id": "qAAX39cNEtOj",
        "outputId": "3f73b426-50f3-4a1a-e174-6bbc0fb69ce6"
      },
      "execution_count": 5,
      "outputs": [
        {
          "output_type": "stream",
          "name": "stdout",
          "text": [
            "total uppercase letters: 3\n",
            "total lowercase letters: 15\n"
          ]
        }
      ]
    }
  ]
}