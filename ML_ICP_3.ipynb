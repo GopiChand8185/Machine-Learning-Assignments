{
  "nbformat": 4,
  "nbformat_minor": 0,
  "metadata": {
    "colab": {
      "provenance": []
    },
    "kernelspec": {
      "name": "python3",
      "display_name": "Python 3"
    },
    "language_info": {
      "name": "python"
    }
  },
  "cells": [
    {
      "cell_type": "code",
      "source": [
        "#1a)\n",
        "import numpy as np\n",
        "ar=np.random.randint(0,21,size=15)\n",
        "print(ar)\n",
        "a=ar.reshape(3,5)\n",
        "print(a)\n",
        "print(a.shape)\n",
        "max_values=a.argmax(axis=1)\n",
        "for i,j in enumerate(max_values):\n",
        "  a[i,j]=0\n",
        "print(a)\n",
        "\n",
        "ar1=np.zeros((4,3),dtype=np.int32)\n",
        "print(ar1.shape)\n",
        "print(type(ar1))\n",
        "print(ar1.dtype)"
      ],
      "metadata": {
        "colab": {
          "base_uri": "https://localhost:8080/"
        },
        "id": "nfspYISPtr06",
        "outputId": "d6c09a10-95cb-473f-f9b0-3006e3f0e42e"
      },
      "execution_count": 2,
      "outputs": [
        {
          "output_type": "stream",
          "name": "stdout",
          "text": [
            "[ 0 12  3 10 10 13  8 17 20 15 20 14 20  0 13]\n",
            "[[ 0 12  3 10 10]\n",
            " [13  8 17 20 15]\n",
            " [20 14 20  0 13]]\n",
            "(3, 5)\n",
            "[[ 0  0  3 10 10]\n",
            " [13  8 17  0 15]\n",
            " [ 0 14 20  0 13]]\n",
            "(4, 3)\n",
            "<class 'numpy.ndarray'>\n",
            "int32\n"
          ]
        }
      ]
    },
    {
      "cell_type": "code",
      "source": [
        "#1b)\n",
        "ar2=np.array([[3,-2],[1,0]])\n",
        "eigvals,eigvecs=np.linalg.eig(ar2)\n",
        "print(\"EigenValues:\",eigvals)\n",
        "print(\"Eigen Vectors:\",eigvecs)"
      ],
      "metadata": {
        "colab": {
          "base_uri": "https://localhost:8080/"
        },
        "id": "a_j9GoLEtyzO",
        "outputId": "0e44af17-746f-4191-8690-9c1fdf44459a"
      },
      "execution_count": 5,
      "outputs": [
        {
          "output_type": "stream",
          "name": "stdout",
          "text": [
            "EigenValues: [2. 1.]\n",
            "Eigen Vectors: [[0.89442719 0.70710678]\n",
            " [0.4472136  0.70710678]]\n"
          ]
        }
      ]
    },
    {
      "cell_type": "code",
      "source": [
        "#1c)\n",
        "ar3=np.array([[0,1,2],[3,4,5]])\n",
        "sum_diag=np.trace(ar3)\n",
        "print(sum_diag)"
      ],
      "metadata": {
        "colab": {
          "base_uri": "https://localhost:8080/"
        },
        "id": "KEI6tyWvt4Xe",
        "outputId": "f3183953-ad19-4985-cd52-d28795f459ff"
      },
      "execution_count": 6,
      "outputs": [
        {
          "output_type": "stream",
          "name": "stdout",
          "text": [
            "4\n"
          ]
        }
      ]
    },
    {
      "cell_type": "code",
      "source": [
        "#1d)\n",
        "ar4=np.array([[1,2],[3,4],[5,6]])\n",
        "ar4_reshape1=ar4.reshape(2,3)\n",
        "ar4_reshape2=ar4.reshape(3,2)\n",
        "print(ar4_reshape1)\n",
        "print(ar4_reshape2)"
      ],
      "metadata": {
        "colab": {
          "base_uri": "https://localhost:8080/"
        },
        "id": "2_GajKL3uOfM",
        "outputId": "a61152af-a7af-42eb-b588-98f44c6674c1"
      },
      "execution_count": 7,
      "outputs": [
        {
          "output_type": "stream",
          "name": "stdout",
          "text": [
            "[[1 2 3]\n",
            " [4 5 6]]\n",
            "[[1 2]\n",
            " [3 4]\n",
            " [5 6]]\n"
          ]
        }
      ]
    }
  ]
}