{
  "nbformat": 4,
  "nbformat_minor": 0,
  "metadata": {
    "colab": {
      "provenance": []
    },
    "kernelspec": {
      "name": "python3",
      "display_name": "Python 3"
    },
    "language_info": {
      "name": "python"
    }
  },
  "cells": [
    {
      "cell_type": "markdown",
      "source": [
        "Question 1"
      ],
      "metadata": {
        "id": "RRIoMyj47ROK"
      }
    },
    {
      "cell_type": "code",
      "execution_count": 1,
      "metadata": {
        "colab": {
          "base_uri": "https://localhost:8080/"
        },
        "id": "WAdIrHut7OeK",
        "outputId": "6db3e52c-357d-454b-f835-813c73c4957f"
      },
      "outputs": [
        {
          "output_type": "stream",
          "name": "stdout",
          "text": [
            "Sorted ages: [19, 19, 20, 22, 24, 24, 24, 25, 25, 26]\n",
            "Min age: 19\n",
            "Max age: 26\n",
            "Ages after adding min and max again: [19, 19, 20, 22, 24, 24, 24, 25, 25, 26, 19, 26]\n",
            "Median age: 24.0\n",
            "Average age: 22.75\n",
            "Range of ages: 7\n"
          ]
        }
      ],
      "source": [
        "ages = [19, 22, 19, 24, 20, 25, 26, 24, 25, 24]\n",
        "ages.sort()\n",
        "print(\"Sorted ages:\", ages)\n",
        "min_age = ages[0]\n",
        "max_age = ages[-1]\n",
        "print(\"Min age:\", min_age)\n",
        "print(\"Max age:\", max_age)\n",
        "ages.append(min_age)\n",
        "ages.append(max_age)\n",
        "print(\"Ages after adding min and max again:\", ages)\n",
        "ages.sort()\n",
        "n = len(ages)\n",
        "\n",
        "if n % 2 == 0:\n",
        "    median_age = (ages[n//2 - 1] + ages[n//2]) / 2\n",
        "else:\n",
        "    median_age = ages[n//2]\n",
        "print(\"Median age:\", median_age)\n",
        "average_age = sum(ages) / n\n",
        "print(\"Average age:\", average_age)\n",
        "age_range = max_age - min_age\n",
        "print(\"Range of ages:\", age_range)"
      ]
    },
    {
      "cell_type": "markdown",
      "source": [
        "Question 2"
      ],
      "metadata": {
        "id": "jog_HTGg8Rpv"
      }
    },
    {
      "cell_type": "code",
      "source": [
        "dog = {}\n",
        "dog['name'] = 'Buddy'\n",
        "dog['color'] = 'Brown'\n",
        "dog['breed'] = 'Golden Retriever'\n",
        "dog['legs'] = 4\n",
        "dog['age'] = 5\n",
        "print('key value pairs of dog dictonary', dog)\n",
        "student = {'first_name': 'GOPI','last_name': 'Vengala','gender': 'Male','age': 21,'marital_status': 'Single',\n",
        "        'skills': ['Python', 'Data Visualization'],'country': 'India','city': 'Guntur','address': '8-800 19th st'}\n",
        "print(\"\\nStudent dictionary:\", student)\n",
        "print('Length of student dictionary:', len(student))\n",
        "print('Value of skills in student dictionary',student['skills'])\n",
        "print('type of value of skills in student:',type(student['skills']))\n",
        "student['skills'].append('HTML')\n",
        "student['skills'].append('javascript')\n",
        "print('values of skills in student:\\n',student['skills'])\n",
        "x=list(student.keys())\n",
        "#x is the list of keys in student\n",
        "print('keys of dictionary student in lists:\\n',x,'type=',type(x))\n",
        "y=list(dog.keys())\n",
        "#y is the list of keys in dog\n",
        "print('keys of dictionary dog in lists:\\n',y,'type=',type(y))\n",
        "m=list(student.values())\n",
        "#m is the list of values in student\n",
        "print('values of dictionary student in lists:\\n',m,'type=',type(m))\n",
        "n=list(dog.values())\n",
        "#n is the list of values in dog\n",
        "print('values of dictionary dog in lists:\\n',n,'type=',type(n))\n",
        "\n"
      ],
      "metadata": {
        "colab": {
          "base_uri": "https://localhost:8080/"
        },
        "id": "5myuAllq8UnC",
        "outputId": "fd2d579e-7555-4eea-ea28-561b2c4f4e06"
      },
      "execution_count": 3,
      "outputs": [
        {
          "output_type": "stream",
          "name": "stdout",
          "text": [
            "key value pairs of dog dictonary {'name': 'Buddy', 'color': 'Brown', 'breed': 'Golden Retriever', 'legs': 4, 'age': 5}\n",
            "\n",
            "Student dictionary: {'first_name': 'GOPI', 'last_name': 'Vengala', 'gender': 'Male', 'age': 21, 'marital_status': 'Single', 'skills': ['Python', 'Data Visualization'], 'country': 'India', 'city': 'Guntur', 'address': '8-800 19th st'}\n",
            "Length of student dictionary: 9\n",
            "Value of skills in student dictionary ['Python', 'Data Visualization']\n",
            "type of value of skills in student: <class 'list'>\n",
            "values of skills in student:\n",
            " ['Python', 'Data Visualization', 'HTML', 'javascript']\n",
            "keys of dictionary student in lists:\n",
            " ['first_name', 'last_name', 'gender', 'age', 'marital_status', 'skills', 'country', 'city', 'address'] type= <class 'list'>\n",
            "keys of dictionary dog in lists:\n",
            " ['name', 'color', 'breed', 'legs', 'age'] type= <class 'list'>\n",
            "values of dictionary student in lists:\n",
            " ['GOPI', 'Vengala', 'Male', 21, 'Single', ['Python', 'Data Visualization', 'HTML', 'javascript'], 'India', 'Guntur', '8-800 19th st'] type= <class 'list'>\n",
            "values of dictionary dog in lists:\n",
            " ['Buddy', 'Brown', 'Golden Retriever', 4, 5] type= <class 'list'>\n"
          ]
        }
      ]
    },
    {
      "cell_type": "markdown",
      "source": [
        "Question 3"
      ],
      "metadata": {
        "id": "WIgqV2RWDo5v"
      }
    },
    {
      "cell_type": "code",
      "source": [
        "sisters = ('Keerthi', 'manasa', 'shalini')\n",
        "print('sisters:',sisters)\n",
        "brothers = ('Hemanth', 'Prudhvi', 'Nagi')\n",
        "print('brothers:',brothers)\n",
        "siblings = sisters + brothers\n",
        "print(\"Siblings tuple:\", siblings)\n",
        "print('number of siblings:',len(siblings))\n",
        "siblings=list(siblings)\n",
        "siblings.append('Sreeramulu')\n",
        "#my father name is Sreeramulu\n",
        "siblings.append('Lakshmi')\n",
        "#my mother name is Lakshmi\n",
        "familymembers=tuple(siblings)\n",
        "print(\"family members:\", familymembers)"
      ],
      "metadata": {
        "colab": {
          "base_uri": "https://localhost:8080/"
        },
        "id": "apyn9g2eDqv5",
        "outputId": "e2dfbd4c-3fa8-4f50-b842-fb31ab181d4d"
      },
      "execution_count": 4,
      "outputs": [
        {
          "output_type": "stream",
          "name": "stdout",
          "text": [
            "sisters: ('Keerthi', 'manasa', 'shalini')\n",
            "brothers: ('Hemanth', 'Prudhvi', 'Nagi')\n",
            "Siblings tuple: ('Keerthi', 'manasa', 'shalini', 'Hemanth', 'Prudhvi', 'Nagi')\n",
            "number of siblings: 6\n",
            "family members: ('Keerthi', 'manasa', 'shalini', 'Hemanth', 'Prudhvi', 'Nagi', 'Sreeramulu', 'Lakshmi')\n"
          ]
        }
      ]
    },
    {
      "cell_type": "markdown",
      "source": [
        "Question 4"
      ],
      "metadata": {
        "id": "WTyL6D9eGFF5"
      }
    },
    {
      "cell_type": "code",
      "source": [
        "it_companies = {'Facebook', 'Google', 'Microsoft', 'Apple', 'IBM', 'Oracle', 'Amazon'}\n",
        "A = {19, 22, 24, 20, 25, 26}\n",
        "B = {19, 22, 20, 25, 26, 24, 28, 27}\n",
        "age = [22, 19, 24, 25, 26, 24, 25, 24]\n",
        "print('length of set it_companies:',len(it_companies))\n",
        "it_companies.add('Twitter')\n",
        "print(it_companies)\n",
        "it_companies.update(['Tesla', 'Instagram'])\n",
        "print(it_companies)\n",
        "it_companies.remove('IBM')\n",
        "print(it_companies)\n",
        "#Difference between discard and remove\n",
        "it_companies.discard('IBM')\n",
        "it_companies.discard('Oracle')\n",
        "print(it_companies)\n",
        "#discard and remove both are used to remove value in a set and the difference betweendiscard and remove is discard does not give error\n",
        "#when the value is not present where as remove gives error\n",
        "C=A.union(B)\n",
        "print('Joining of A and B',C)\n",
        "D=A.intersection(B)\n",
        "print('Intersection of A and B',D)\n",
        "print('is A subset of B',A.issubset(B))\n",
        "print('Are A and B disjoint sets:',A.isdisjoint(B))\n",
        "A.update(B)\n",
        "print('joining A with B',A)\n",
        "B.update(A)\n",
        "print('Joining B with A',B)\n",
        "print('#set() value output represent empty or null value')\n",
        "A_symmetric_difference_B = A.symmetric_difference(B)\n",
        "print(\"Symmetric difference between A and B:\", A_symmetric_difference_B)\n",
        "A.clear()\n",
        "B.clear()\n",
        "print('After deletion of all the values in the sets A,B, it_companies',A,B,it_companies)\n",
        "#set() value output represent empty or null value\n",
        "l1=len(age)\n",
        "print('length of list age:',l1)\n",
        "#l1 is length of the list age\n",
        "l2=len(set(age))\n",
        "print('length of set age:',l2)\n",
        "#12 is length of the set age\n",
        "print('Length of the set is 5 because a set doesnot have any duplicate entries and list can have duplicate values so its length is 8')\n",
        "\n",
        "\n"
      ],
      "metadata": {
        "colab": {
          "base_uri": "https://localhost:8080/"
        },
        "id": "YIiKjO9TIe4L",
        "outputId": "31bd6598-f713-4089-a8ed-95221321ede4"
      },
      "execution_count": 11,
      "outputs": [
        {
          "output_type": "stream",
          "name": "stdout",
          "text": [
            "length of set it_companies: 7\n",
            "{'Microsoft', 'Twitter', 'Apple', 'Facebook', 'Oracle', 'Google', 'Amazon', 'IBM'}\n",
            "{'Amazon', 'IBM', 'Oracle', 'Apple', 'Google', 'Microsoft', 'Instagram', 'Twitter', 'Tesla', 'Facebook'}\n",
            "{'Amazon', 'Oracle', 'Apple', 'Google', 'Microsoft', 'Instagram', 'Twitter', 'Tesla', 'Facebook'}\n",
            "{'Amazon', 'Apple', 'Google', 'Microsoft', 'Instagram', 'Twitter', 'Tesla', 'Facebook'}\n",
            "Joining of A and B {19, 20, 22, 24, 25, 26, 27, 28}\n",
            "Intersection of A and B {19, 20, 22, 24, 25, 26}\n",
            "is A subset of B True\n",
            "Are A and B disjoint sets: False\n",
            "joining A with B {19, 20, 22, 24, 25, 26, 27, 28}\n",
            "Joining B with A {19, 20, 22, 24, 25, 26, 27, 28}\n",
            "#set() value output represent empty or null value\n",
            "Symmetric difference between A and B: set()\n",
            "After deletion of all the values in the sets A,B, it_companies set() set() {'Amazon', 'Apple', 'Google', 'Microsoft', 'Instagram', 'Twitter', 'Tesla', 'Facebook'}\n",
            "length of list age: 8\n",
            "length of set age: 5\n",
            "Length of the set is 5 because a set doesnot have any duplicate entries and list can have duplicate values so its length is 8\n"
          ]
        }
      ]
    },
    {
      "cell_type": "markdown",
      "source": [
        "Question 5"
      ],
      "metadata": {
        "id": "Dd-d_C5mNGo8"
      }
    },
    {
      "cell_type": "code",
      "source": [
        "radius=float(30)\n",
        "_area_of_circle=((22/7)*radius*radius)\n",
        "print('area of circle is:',_area_of_circle)\n",
        "_circum_of_circle=2*(22/7)*radius\n",
        "print('circumference of th circle is:',_circum_of_circle)\n",
        "#Calculating area with input radius\n",
        "print('Taking radius as input from user ')\n",
        "radii=float(input('Enter radius of a circle:'))\n",
        "area=((22/7)*radii*radii)\n",
        "print('area of circle with user inputed radius is: ',area)"
      ],
      "metadata": {
        "colab": {
          "base_uri": "https://localhost:8080/"
        },
        "id": "CFJtBM-DNI64",
        "outputId": "f19021c8-0342-43cc-f046-4c7287d182f3"
      },
      "execution_count": 13,
      "outputs": [
        {
          "output_type": "stream",
          "name": "stdout",
          "text": [
            "area of circle is: 2828.5714285714284\n",
            "circumference of th circle is: 188.57142857142856\n",
            "Taking radius as input from user \n",
            "Enter radius of a circle:30\n",
            "area of circle with user inputed radius is:  2828.5714285714284\n"
          ]
        }
      ]
    },
    {
      "cell_type": "markdown",
      "source": [
        "Question 6"
      ],
      "metadata": {
        "id": "YAjc9zZaOKA4"
      }
    },
    {
      "cell_type": "code",
      "source": [
        "inp='I am a teacher and I love to inspire and teach people'\n",
        "#inp is the given string\n",
        "words=inp.split(' ')\n",
        "#splitting the words and adding them into words list\n",
        "print(words)\n",
        "uniq=set(words)\n",
        "#sets does not allow data duplicates\n",
        "print(uniq)\n",
        "print('length of the unique words in the given sentence is: ',len(uniq))"
      ],
      "metadata": {
        "colab": {
          "base_uri": "https://localhost:8080/"
        },
        "id": "lfPap5tpOaWq",
        "outputId": "d13b0828-52ac-4db9-dae2-730069c03316"
      },
      "execution_count": 14,
      "outputs": [
        {
          "output_type": "stream",
          "name": "stdout",
          "text": [
            "['I', 'am', 'a', 'teacher', 'and', 'I', 'love', 'to', 'inspire', 'and', 'teach', 'people']\n",
            "{'teacher', 'inspire', 'love', 'am', 'I', 'to', 'a', 'people', 'and', 'teach'}\n",
            "length of the unique words in the given sentence is:  10\n"
          ]
        }
      ]
    },
    {
      "cell_type": "markdown",
      "source": [
        "Question 7"
      ],
      "metadata": {
        "id": "JXxjWiIwO152"
      }
    },
    {
      "cell_type": "code",
      "source": [
        "print('Name\\tAge\\tCountry\\tCity')\n",
        "\n",
        "print('Asabeneh\\t250\\tFinland\\tHelsinki')"
      ],
      "metadata": {
        "colab": {
          "base_uri": "https://localhost:8080/"
        },
        "id": "dKmSUZz6PHSH",
        "outputId": "587053b8-a98e-4def-a56f-460574f71296"
      },
      "execution_count": 15,
      "outputs": [
        {
          "output_type": "stream",
          "name": "stdout",
          "text": [
            "Name\tAge\tCountry\tCity\n",
            "Asabeneh\t250\tFinland\tHelsinki\n"
          ]
        }
      ]
    },
    {
      "cell_type": "markdown",
      "source": [
        "Question 8"
      ],
      "metadata": {
        "id": "NltVA8khPMn4"
      }
    },
    {
      "cell_type": "code",
      "source": [
        "radius=float(10)\n",
        "area=(3.14)*radius**2\n",
        "string='The area of the circle with radius {0} is {1} meters square'.format(radius, area)\n",
        "#using string formating printing out the area of the circle\n",
        "print(string)"
      ],
      "metadata": {
        "colab": {
          "base_uri": "https://localhost:8080/"
        },
        "id": "pZUMyjq-PvCg",
        "outputId": "31fcd63e-a29f-4030-85dc-a9b8406bbbbc"
      },
      "execution_count": 16,
      "outputs": [
        {
          "output_type": "stream",
          "name": "stdout",
          "text": [
            "The area of the circle with radius 10.0 is 314.0 meters square\n"
          ]
        }
      ]
    },
    {
      "cell_type": "markdown",
      "source": [
        "Question 9"
      ],
      "metadata": {
        "id": "_NEFSAfoQSy3"
      }
    },
    {
      "cell_type": "code",
      "source": [
        "N=int(input('Number of students:'))\n",
        "lbs=[]\n",
        "print('Enter weights in lbs:\\t')\n",
        "for i in range(N):\n",
        "  lbs.append(float(input()))\n",
        "print('Weights of students in lbs:\\t',lbs)\n",
        "kilos=[]\n",
        "for i in lbs:\n",
        "  kilos.append(round(float(i)*(0.45359237),3))\n",
        "print('Weights of the students in kilos:',kilos)"
      ],
      "metadata": {
        "colab": {
          "base_uri": "https://localhost:8080/"
        },
        "id": "EWRjJVHqQUvN",
        "outputId": "74eb6ed9-a550-4779-a7a7-39c296e94bfc"
      },
      "execution_count": 17,
      "outputs": [
        {
          "output_type": "stream",
          "name": "stdout",
          "text": [
            "Number of students:4\n",
            "Enter weights in lbs:\t\n",
            "150\n",
            "155\n",
            "145\n",
            "148\n",
            "Weights of students in lbs:\t [150.0, 155.0, 145.0, 148.0]\n",
            "Weights of the students in kilos: [68.039, 70.307, 65.771, 67.132]\n"
          ]
        }
      ]
    }
  ]
}